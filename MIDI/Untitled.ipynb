{
 "cells": [
  {
   "cell_type": "code",
   "execution_count": null,
   "metadata": {},
   "outputs": [],
   "source": [
    "conda install py_midicsv"
   ]
  },
  {
   "cell_type": "code",
   "execution_count": null,
   "metadata": {},
   "outputs": [],
   "source": [
    "conda search py_midicsv"
   ]
  },
  {
   "cell_type": "code",
   "execution_count": null,
   "metadata": {},
   "outputs": [],
   "source": [
    "conda search --override-channels --channel defaults py_midicsv"
   ]
  },
  {
   "cell_type": "code",
   "execution_count": null,
   "metadata": {},
   "outputs": [],
   "source": [
    "conda list"
   ]
  },
  {
   "cell_type": "code",
   "execution_count": null,
   "metadata": {},
   "outputs": [],
   "source": [
    "pip install py_midicsv"
   ]
  },
  {
   "cell_type": "code",
   "execution_count": 1,
   "metadata": {},
   "outputs": [
    {
     "name": "stdout",
     "output_type": "stream",
     "text": [
      "# packages in environment at /Users/morganldebusk-lane/miniconda3:\n",
      "#\n",
      "# Name                    Version                   Build  Channel\n",
      "_r-mutex                  1.0.0               anacondar_1  \n",
      "appnope                   0.1.0                 py37_1000    conda-forge\n",
      "asn1crypto                1.2.0                    py37_0  \n",
      "attrs                     19.3.0                     py_0    conda-forge\n",
      "backcall                  0.1.0                      py_0    conda-forge\n",
      "blas                      1.0                         mkl  \n",
      "bleach                    3.1.0                      py_0    conda-forge\n",
      "bwidget                   1.9.11                        1  \n",
      "bzip2                     1.0.8                h1de35cc_0  \n",
      "ca-certificates           2019.11.28           hecc5488_0    conda-forge\n",
      "cairo                     1.14.12              hc4e6be7_4  \n",
      "cctools                   895                           1  \n",
      "certifi                   2019.11.28               py37_0    conda-forge\n",
      "cffi                      1.13.2           py37hb5b8e2f_0  \n",
      "chardet                   3.0.4                 py37_1003  \n",
      "clang                     4.0.1                         1  \n",
      "clang_osx-64              4.0.1               h1ce6c1d_18  \n",
      "clangxx                   4.0.1                         1  \n",
      "clangxx_osx-64            4.0.1               h22b1bf0_18  \n",
      "colorama                  0.4.3                      py_0    conda-forge\n",
      "compiler-rt               4.0.1                hcfea43d_1  \n",
      "conda                     4.8.2                    py37_0    conda-forge\n",
      "conda-package-handling    1.6.0            py37h1de35cc_0  \n",
      "cryptography              2.8              py37ha12b0ac_0  \n",
      "curl                      7.67.0               ha441bb4_0  \n",
      "cycler                    0.10.0                   py37_0  \n",
      "decorator                 4.4.1                      py_0    conda-forge\n",
      "defusedxml                0.6.0                      py_0    conda-forge\n",
      "entrypoints               0.3                   py37_1000    conda-forge\n",
      "fontconfig                2.13.0               h5d5b041_1  \n",
      "freetype                  2.9.1                hb4e5f40_0  \n",
      "fribidi                   1.0.5                h1de35cc_0  \n",
      "gettext                   0.19.8.1             h15daf44_3  \n",
      "gfortran_osx-64           4.8.5                h22b1bf0_8  \n",
      "gitdb2                    2.0.6                      py_0    conda-forge\n",
      "gitpython                 3.0.5                      py_0    conda-forge\n",
      "glib                      2.63.1               hd977a24_0  \n",
      "graphite2                 1.3.13               h2098e52_0  \n",
      "gsl                       2.4                  h1de35cc_4  \n",
      "harfbuzz                  1.8.8                hb8d4a28_0  \n",
      "icu                       58.2                 h4b95b61_1  \n",
      "idna                      2.8                      py37_0  \n",
      "importlib_metadata        1.3.0                    py37_0    conda-forge\n",
      "intel-openmp              2019.4                      233  \n",
      "ipykernel                 5.1.3            py37h5ca1d4c_0    conda-forge\n",
      "ipython                   7.10.2           py37h5ca1d4c_0    conda-forge\n",
      "ipython_genutils          0.2.0                      py_1    conda-forge\n",
      "jedi                      0.15.1                   py37_0    conda-forge\n",
      "jinja2                    2.10.3                     py_0    conda-forge\n",
      "joblib                    0.14.0                     py_0    anaconda\n",
      "jpeg                      9b                   he5867d9_2  \n",
      "json5                     0.8.5                      py_0    conda-forge\n",
      "jsonschema                3.2.0                    py37_0    conda-forge\n",
      "jupyter_client            5.3.3                    py37_1    conda-forge\n",
      "jupyter_core              4.6.1                    py37_0    conda-forge\n",
      "jupyterlab                1.2.4                      py_0    conda-forge\n",
      "jupyterlab-git            0.9.0                      py_0    conda-forge\n",
      "jupyterlab_server         1.0.6                      py_0    conda-forge\n",
      "kaggle                    1.5.6                    py37_1    conda-forge\n",
      "kiwisolver                1.1.0            py37h0a44026_0  \n",
      "krb5                      1.16.1               hddcf347_7  \n",
      "ld64                      274.2                         1  \n",
      "libcurl                   7.67.0               h051b688_0  \n",
      "libcxx                    4.0.1                hcfea43d_1  \n",
      "libcxxabi                 4.0.1                hcfea43d_1  \n",
      "libedit                   3.1.20181209         hb402a30_0  \n",
      "libffi                    3.2.1                h475c297_4  \n",
      "libgfortran               3.0.1                h93005f0_2  \n",
      "libiconv                  1.15                 hdd342a3_7  \n",
      "libpng                    1.6.37               ha441bb4_0  \n",
      "libsodium                 1.0.17               h01d97ff_0    conda-forge\n",
      "libssh2                   1.8.2                ha12b0ac_0  \n",
      "libtiff                   4.1.0                hcb84e12_0  \n",
      "libxml2                   2.9.9                hf6e021a_1  \n",
      "llvm                      4.0.1                         1  \n",
      "llvm-lto-tapi             4.0.1                         1  \n",
      "llvm-openmp               4.0.1                hcfea43d_1  \n",
      "make                      4.2.1                h3efe00b_1  \n",
      "markupsafe                1.1.1            py37h0b31af3_0    conda-forge\n",
      "matplotlib                3.1.1            py37h54f8f79_0  \n",
      "mistune                   0.8.4           py37h0b31af3_1000    conda-forge\n",
      "mkl                       2019.4                      233  \n",
      "mkl-service               2.3.0            py37hfbe908c_0  \n",
      "mkl_fft                   1.0.15           py37h5e564d8_0  \n",
      "mkl_random                1.1.0            py37ha771720_0  \n",
      "more-itertools            8.0.2                      py_0    conda-forge\n",
      "nbconvert                 5.6.1                    py37_0    conda-forge\n",
      "nbdime                    1.1.0                    py37_0    conda-forge\n",
      "nbformat                  4.4.0                      py_1    conda-forge\n",
      "ncurses                   6.1                  h0a44026_1  \n",
      "nodejs                    11.14.0              h6de7cb9_1    conda-forge\n",
      "notebook                  6.0.1                    py37_0    conda-forge\n",
      "numpy                     1.17.4           py37h890c691_0  \n",
      "numpy-base                1.17.4           py37h6575580_0  \n",
      "openssl                   1.1.1d               h0b31af3_0    conda-forge\n",
      "pandas                    0.25.3           py37h0a44026_0    anaconda\n",
      "pandas-flavor             0.2.0                      py_0    conda-forge\n",
      "pandoc                    2.9                           0    conda-forge\n",
      "pandocfilters             1.4.2                      py_1    conda-forge\n",
      "pango                     1.42.4               h060686c_0  \n",
      "parso                     0.5.2                      py_0    conda-forge\n",
      "patsy                     0.5.1                    py37_0  \n",
      "pcre                      8.43                 h0a44026_0  \n",
      "pexpect                   4.7.0                    py37_0    conda-forge\n",
      "pickleshare               0.7.5                 py37_1000    conda-forge\n",
      "pip                       19.3.1                   py37_0  \n",
      "pixman                    0.38.0               h1de35cc_0  \n",
      "prometheus_client         0.7.1                      py_0    conda-forge\n",
      "prompt_toolkit            3.0.2                      py_0    conda-forge\n",
      "ptyprocess                0.6.0                   py_1001    conda-forge\n",
      "py-midicsv                1.10.0                   pypi_0    pypi\n",
      "pycosat                   0.6.3            py37h1de35cc_0  \n",
      "pycparser                 2.19                     py37_0  \n",
      "pygments                  2.5.2                      py_0    conda-forge\n",
      "pyjanitor                 0.20.0                     py_0    conda-forge\n",
      "pyopenssl                 19.1.0                   py37_0  \n",
      "pyparsing                 2.4.5                      py_0  \n",
      "pyrsistent                0.15.6           py37h0b31af3_0    conda-forge\n",
      "pysocks                   1.7.1                    py37_0  \n",
      "python                    3.7.4                h359304d_1  \n",
      "python-dateutil           2.8.1                      py_0  \n",
      "python-magic              0.4.15                   pypi_0    pypi\n",
      "python-slugify            1.2.6                      py_0    conda-forge\n",
      "python.app                2                        py37_9  \n",
      "pytz                      2019.3                     py_0  \n",
      "pyzmq                     18.1.0           py37h0a44026_0  \n",
      "r-assertthat              0.2.1             r36h6115d3f_0  \n",
      "r-base                    3.6.1                hcb44179_1  \n",
      "r-bh                      1.69.0_1          r36h6115d3f_0  \n",
      "r-bit                     1.1_14            r36h46e59ec_0  \n",
      "r-bit64                   0.9_7             r36h46e59ec_0  \n",
      "r-blob                    1.1.1             r36h6115d3f_0  \n",
      "r-cli                     1.1.0             r36h6115d3f_0  \n",
      "r-crayon                  1.3.4             r36h6115d3f_0  \n",
      "r-dbi                     1.0.0             r36h6115d3f_0  \n",
      "r-dbplyr                  1.4.0             r36h6115d3f_0  \n",
      "r-digest                  0.6.18            r36h46e59ec_0  \n",
      "r-dplyr                   0.8.0.1           r36h466af19_0  \n",
      "r-fansi                   0.4.0             r36h46e59ec_0  \n",
      "r-glue                    1.3.1             r36h46e59ec_0  \n",
      "r-magrittr                1.5               r36h6115d3f_4  \n",
      "r-memoise                 1.1.0             r36h6115d3f_0  \n",
      "r-pillar                  1.3.1             r36h6115d3f_0  \n",
      "r-pkgconfig               2.0.2             r36h6115d3f_0  \n",
      "r-plogr                   0.2.0             r36h6115d3f_0  \n",
      "r-prettyunits             1.0.2             r36h6115d3f_0  \n",
      "r-purrr                   0.3.2             r36h46e59ec_0  \n",
      "r-r6                      2.4.0             r36h6115d3f_0  \n",
      "r-rcpp                    1.0.1             r36h466af19_0  \n",
      "r-rlang                   0.3.4             r36h46e59ec_0  \n",
      "r-rsqlite                 2.1.1             r36h466af19_0  \n",
      "r-tibble                  2.1.1             r36h46e59ec_0  \n",
      "r-tidyselect              0.2.5             r36h466af19_0  \n",
      "r-utf8                    1.1.4             r36h46e59ec_0  \n",
      "readline                  7.0                  h1de35cc_5  \n",
      "requests                  2.22.0                   py37_1  \n",
      "rpy2                      2.9.4           py37r36h1d22016_0  \n",
      "ruamel_yaml               0.15.46          py37h1de35cc_0  \n",
      "s3cmd                     2.0.2                    pypi_0    pypi\n",
      "scikit-learn              0.21.3           py37h27c97d8_0    anaconda\n",
      "scipy                     1.3.1            py37h1410ff5_0  \n",
      "send2trash                1.5.0                      py_0    conda-forge\n",
      "setuptools                42.0.2                   py37_0  \n",
      "simplegeneric             0.8.1                    py37_2  \n",
      "six                       1.13.0                   py37_0  \n",
      "smmap2                    2.0.5                      py_0    conda-forge\n",
      "sqlite                    3.30.1               ha441bb4_0  \n",
      "statsmodels               0.10.1           py37h1d22016_0  \n",
      "terminado                 0.8.3                    py37_0    conda-forge\n",
      "testpath                  0.4.4                      py_0    conda-forge\n",
      "tk                        8.6.8                ha441bb4_0  \n",
      "tktable                   2.10                 h1de35cc_0  \n",
      "tornado                   6.0.3            py37h0b31af3_0    conda-forge\n",
      "tqdm                      4.40.0                     py_0  \n",
      "traitlets                 4.3.3                    py37_0    conda-forge\n",
      "tzlocal                   2.0.0                    py37_0  \n",
      "unidecode                 1.1.1                      py_0    conda-forge\n",
      "urllib3                   1.24.3                   py37_0    conda-forge\n",
      "wcwidth                   0.1.7                      py_1    conda-forge\n",
      "webencodings              0.5.1                      py_1    conda-forge\n",
      "wheel                     0.33.6                   py37_0  \n",
      "xarray                    0.15.0                     py_0    conda-forge\n",
      "xz                        5.2.4                h1de35cc_4  \n",
      "yaml                      0.1.7                hc338f04_2  \n",
      "zeromq                    4.3.2                h6de7cb9_2    conda-forge\n",
      "zipp                      0.6.0                      py_0    conda-forge\n",
      "zlib                      1.2.11               h1de35cc_3  \n",
      "zstd                      1.3.7                h5bba6e5_0  \n",
      "\n",
      "Note: you may need to restart the kernel to use updated packages.\n"
     ]
    }
   ],
   "source": [
    "conda list"
   ]
  },
  {
   "cell_type": "code",
   "execution_count": 47,
   "metadata": {},
   "outputs": [],
   "source": [
    "import py_midicsv as pm\n",
    "import pandas as pd"
   ]
  },
  {
   "cell_type": "code",
   "execution_count": 48,
   "metadata": {},
   "outputs": [],
   "source": [
    "csv_string = pm.midi_to_csv(\"BWV454_bwv_454.mid\")"
   ]
  },
  {
   "cell_type": "code",
   "execution_count": 49,
   "metadata": {},
   "outputs": [
    {
     "name": "stdout",
     "output_type": "stream",
     "text": [
      "2, 24576, Note_on_c, 0, 67, 0\n",
      "\n"
     ]
    }
   ],
   "source": [
    "print(csv_string[115])"
   ]
  },
  {
   "cell_type": "code",
   "execution_count": 27,
   "metadata": {},
   "outputs": [],
   "source": [
    "df.to_csv(\"df.csv\", index=False)"
   ]
  }
 ],
 "metadata": {
  "kernelspec": {
   "display_name": "Python 3",
   "language": "python",
   "name": "python3"
  },
  "language_info": {
   "codemirror_mode": {
    "name": "ipython",
    "version": 3
   },
   "file_extension": ".py",
   "mimetype": "text/x-python",
   "name": "python",
   "nbconvert_exporter": "python",
   "pygments_lexer": "ipython3",
   "version": "3.7.4"
  }
 },
 "nbformat": 4,
 "nbformat_minor": 4
}
